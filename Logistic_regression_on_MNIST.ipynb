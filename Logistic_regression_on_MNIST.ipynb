{
  "nbformat": 4,
  "nbformat_minor": 0,
  "metadata": {
    "colab": {
      "name": "Logistic_regression_on_MNIST.ipynb",
      "provenance": [],
      "collapsed_sections": []
    },
    "kernelspec": {
      "name": "python3",
      "display_name": "Python 3"
    }
  },
  "cells": [
    {
      "cell_type": "code",
      "metadata": {
        "id": "GqiRi_mEEGli",
        "colab_type": "code",
        "colab": {
          "base_uri": "https://localhost:8080/",
          "height": 34
        },
        "outputId": "756a3a47-ab53-4d89-9665-f942d2e3b277"
      },
      "source": [
        "from google.colab import drive\n",
        "drive.mount('/content/drive')\n"
      ],
      "execution_count": null,
      "outputs": [
        {
          "output_type": "stream",
          "text": [
            "Drive already mounted at /content/drive; to attempt to forcibly remount, call drive.mount(\"/content/drive\", force_remount=True).\n"
          ],
          "name": "stdout"
        }
      ]
    },
    {
      "cell_type": "code",
      "metadata": {
        "id": "LU92YaN3RqfR",
        "colab_type": "code",
        "colab": {
          "base_uri": "https://localhost:8080/",
          "height": 71
        },
        "outputId": "92f8f274-f5aa-4d02-f679-d42c19e7ec72"
      },
      "source": [
        "import numpy as np\n",
        "import pandas as pd\n",
        "import matplotlib.pyplot as plt\n",
        "from sklearn.metrics import confusion_matrix\n",
        "from sklearn import metrics\n",
        "from sklearn.metrics import roc_curve, auc\n",
        "import seaborn as sns\n",
        "from tqdm import tqdm"
      ],
      "execution_count": null,
      "outputs": [
        {
          "output_type": "stream",
          "text": [
            "/usr/local/lib/python3.6/dist-packages/statsmodels/tools/_testing.py:19: FutureWarning: pandas.util.testing is deprecated. Use the functions in the public API at pandas.testing instead.\n",
            "  import pandas.util.testing as tm\n"
          ],
          "name": "stderr"
        }
      ]
    },
    {
      "cell_type": "markdown",
      "metadata": {
        "id": "5JwPQL_ERDBD",
        "colab_type": "text"
      },
      "source": [
        "#Loading the dataset"
      ]
    },
    {
      "cell_type": "code",
      "metadata": {
        "id": "e_R8GbV6K9IE",
        "colab_type": "code",
        "colab": {
          "base_uri": "https://localhost:8080/",
          "height": 51
        },
        "outputId": "34baa8d3-0d41-43e3-c431-12282f2ecc2a"
      },
      "source": [
        "d0= pd.read_csv('/content/drive/My Drive/MNIST/train.csv')\n",
        "# save class labes into a variable l\n",
        "l=d0['label']\n",
        "d=d0.drop('label',axis=1)\n",
        "print(d.shape)\n",
        "print(l.shape)\n",
        "del(d0)#free wasted memory"
      ],
      "execution_count": null,
      "outputs": [
        {
          "output_type": "stream",
          "text": [
            "(42000, 784)\n",
            "(42000,)\n"
          ],
          "name": "stdout"
        }
      ]
    },
    {
      "cell_type": "code",
      "metadata": {
        "id": "YzrqFfCnLt6K",
        "colab_type": "code",
        "colab": {
          "base_uri": "https://localhost:8080/",
          "height": 253
        },
        "outputId": "0fe0c52d-9413-4d99-8fd7-a2f12b0832d8"
      },
      "source": [
        "d.head(5)"
      ],
      "execution_count": null,
      "outputs": [
        {
          "output_type": "execute_result",
          "data": {
            "text/html": [
              "<div>\n",
              "<style scoped>\n",
              "    .dataframe tbody tr th:only-of-type {\n",
              "        vertical-align: middle;\n",
              "    }\n",
              "\n",
              "    .dataframe tbody tr th {\n",
              "        vertical-align: top;\n",
              "    }\n",
              "\n",
              "    .dataframe thead th {\n",
              "        text-align: right;\n",
              "    }\n",
              "</style>\n",
              "<table border=\"1\" class=\"dataframe\">\n",
              "  <thead>\n",
              "    <tr style=\"text-align: right;\">\n",
              "      <th></th>\n",
              "      <th>pixel0</th>\n",
              "      <th>pixel1</th>\n",
              "      <th>pixel2</th>\n",
              "      <th>pixel3</th>\n",
              "      <th>pixel4</th>\n",
              "      <th>pixel5</th>\n",
              "      <th>pixel6</th>\n",
              "      <th>pixel7</th>\n",
              "      <th>pixel8</th>\n",
              "      <th>pixel9</th>\n",
              "      <th>pixel10</th>\n",
              "      <th>pixel11</th>\n",
              "      <th>pixel12</th>\n",
              "      <th>pixel13</th>\n",
              "      <th>pixel14</th>\n",
              "      <th>pixel15</th>\n",
              "      <th>pixel16</th>\n",
              "      <th>pixel17</th>\n",
              "      <th>pixel18</th>\n",
              "      <th>pixel19</th>\n",
              "      <th>pixel20</th>\n",
              "      <th>pixel21</th>\n",
              "      <th>pixel22</th>\n",
              "      <th>pixel23</th>\n",
              "      <th>pixel24</th>\n",
              "      <th>pixel25</th>\n",
              "      <th>pixel26</th>\n",
              "      <th>pixel27</th>\n",
              "      <th>pixel28</th>\n",
              "      <th>pixel29</th>\n",
              "      <th>pixel30</th>\n",
              "      <th>pixel31</th>\n",
              "      <th>pixel32</th>\n",
              "      <th>pixel33</th>\n",
              "      <th>pixel34</th>\n",
              "      <th>pixel35</th>\n",
              "      <th>pixel36</th>\n",
              "      <th>pixel37</th>\n",
              "      <th>pixel38</th>\n",
              "      <th>pixel39</th>\n",
              "      <th>...</th>\n",
              "      <th>pixel744</th>\n",
              "      <th>pixel745</th>\n",
              "      <th>pixel746</th>\n",
              "      <th>pixel747</th>\n",
              "      <th>pixel748</th>\n",
              "      <th>pixel749</th>\n",
              "      <th>pixel750</th>\n",
              "      <th>pixel751</th>\n",
              "      <th>pixel752</th>\n",
              "      <th>pixel753</th>\n",
              "      <th>pixel754</th>\n",
              "      <th>pixel755</th>\n",
              "      <th>pixel756</th>\n",
              "      <th>pixel757</th>\n",
              "      <th>pixel758</th>\n",
              "      <th>pixel759</th>\n",
              "      <th>pixel760</th>\n",
              "      <th>pixel761</th>\n",
              "      <th>pixel762</th>\n",
              "      <th>pixel763</th>\n",
              "      <th>pixel764</th>\n",
              "      <th>pixel765</th>\n",
              "      <th>pixel766</th>\n",
              "      <th>pixel767</th>\n",
              "      <th>pixel768</th>\n",
              "      <th>pixel769</th>\n",
              "      <th>pixel770</th>\n",
              "      <th>pixel771</th>\n",
              "      <th>pixel772</th>\n",
              "      <th>pixel773</th>\n",
              "      <th>pixel774</th>\n",
              "      <th>pixel775</th>\n",
              "      <th>pixel776</th>\n",
              "      <th>pixel777</th>\n",
              "      <th>pixel778</th>\n",
              "      <th>pixel779</th>\n",
              "      <th>pixel780</th>\n",
              "      <th>pixel781</th>\n",
              "      <th>pixel782</th>\n",
              "      <th>pixel783</th>\n",
              "    </tr>\n",
              "  </thead>\n",
              "  <tbody>\n",
              "    <tr>\n",
              "      <th>0</th>\n",
              "      <td>0</td>\n",
              "      <td>0</td>\n",
              "      <td>0</td>\n",
              "      <td>0</td>\n",
              "      <td>0</td>\n",
              "      <td>0</td>\n",
              "      <td>0</td>\n",
              "      <td>0</td>\n",
              "      <td>0</td>\n",
              "      <td>0</td>\n",
              "      <td>0</td>\n",
              "      <td>0</td>\n",
              "      <td>0</td>\n",
              "      <td>0</td>\n",
              "      <td>0</td>\n",
              "      <td>0</td>\n",
              "      <td>0</td>\n",
              "      <td>0</td>\n",
              "      <td>0</td>\n",
              "      <td>0</td>\n",
              "      <td>0</td>\n",
              "      <td>0</td>\n",
              "      <td>0</td>\n",
              "      <td>0</td>\n",
              "      <td>0</td>\n",
              "      <td>0</td>\n",
              "      <td>0</td>\n",
              "      <td>0</td>\n",
              "      <td>0</td>\n",
              "      <td>0</td>\n",
              "      <td>0</td>\n",
              "      <td>0</td>\n",
              "      <td>0</td>\n",
              "      <td>0</td>\n",
              "      <td>0</td>\n",
              "      <td>0</td>\n",
              "      <td>0</td>\n",
              "      <td>0</td>\n",
              "      <td>0</td>\n",
              "      <td>0</td>\n",
              "      <td>...</td>\n",
              "      <td>0</td>\n",
              "      <td>0</td>\n",
              "      <td>0</td>\n",
              "      <td>0</td>\n",
              "      <td>0</td>\n",
              "      <td>0</td>\n",
              "      <td>0</td>\n",
              "      <td>0</td>\n",
              "      <td>0</td>\n",
              "      <td>0</td>\n",
              "      <td>0</td>\n",
              "      <td>0</td>\n",
              "      <td>0</td>\n",
              "      <td>0</td>\n",
              "      <td>0</td>\n",
              "      <td>0</td>\n",
              "      <td>0</td>\n",
              "      <td>0</td>\n",
              "      <td>0</td>\n",
              "      <td>0</td>\n",
              "      <td>0</td>\n",
              "      <td>0</td>\n",
              "      <td>0</td>\n",
              "      <td>0</td>\n",
              "      <td>0</td>\n",
              "      <td>0</td>\n",
              "      <td>0</td>\n",
              "      <td>0</td>\n",
              "      <td>0</td>\n",
              "      <td>0</td>\n",
              "      <td>0</td>\n",
              "      <td>0</td>\n",
              "      <td>0</td>\n",
              "      <td>0</td>\n",
              "      <td>0</td>\n",
              "      <td>0</td>\n",
              "      <td>0</td>\n",
              "      <td>0</td>\n",
              "      <td>0</td>\n",
              "      <td>0</td>\n",
              "    </tr>\n",
              "    <tr>\n",
              "      <th>1</th>\n",
              "      <td>0</td>\n",
              "      <td>0</td>\n",
              "      <td>0</td>\n",
              "      <td>0</td>\n",
              "      <td>0</td>\n",
              "      <td>0</td>\n",
              "      <td>0</td>\n",
              "      <td>0</td>\n",
              "      <td>0</td>\n",
              "      <td>0</td>\n",
              "      <td>0</td>\n",
              "      <td>0</td>\n",
              "      <td>0</td>\n",
              "      <td>0</td>\n",
              "      <td>0</td>\n",
              "      <td>0</td>\n",
              "      <td>0</td>\n",
              "      <td>0</td>\n",
              "      <td>0</td>\n",
              "      <td>0</td>\n",
              "      <td>0</td>\n",
              "      <td>0</td>\n",
              "      <td>0</td>\n",
              "      <td>0</td>\n",
              "      <td>0</td>\n",
              "      <td>0</td>\n",
              "      <td>0</td>\n",
              "      <td>0</td>\n",
              "      <td>0</td>\n",
              "      <td>0</td>\n",
              "      <td>0</td>\n",
              "      <td>0</td>\n",
              "      <td>0</td>\n",
              "      <td>0</td>\n",
              "      <td>0</td>\n",
              "      <td>0</td>\n",
              "      <td>0</td>\n",
              "      <td>0</td>\n",
              "      <td>0</td>\n",
              "      <td>0</td>\n",
              "      <td>...</td>\n",
              "      <td>0</td>\n",
              "      <td>0</td>\n",
              "      <td>0</td>\n",
              "      <td>0</td>\n",
              "      <td>0</td>\n",
              "      <td>0</td>\n",
              "      <td>0</td>\n",
              "      <td>0</td>\n",
              "      <td>0</td>\n",
              "      <td>0</td>\n",
              "      <td>0</td>\n",
              "      <td>0</td>\n",
              "      <td>0</td>\n",
              "      <td>0</td>\n",
              "      <td>0</td>\n",
              "      <td>0</td>\n",
              "      <td>0</td>\n",
              "      <td>0</td>\n",
              "      <td>0</td>\n",
              "      <td>0</td>\n",
              "      <td>0</td>\n",
              "      <td>0</td>\n",
              "      <td>0</td>\n",
              "      <td>0</td>\n",
              "      <td>0</td>\n",
              "      <td>0</td>\n",
              "      <td>0</td>\n",
              "      <td>0</td>\n",
              "      <td>0</td>\n",
              "      <td>0</td>\n",
              "      <td>0</td>\n",
              "      <td>0</td>\n",
              "      <td>0</td>\n",
              "      <td>0</td>\n",
              "      <td>0</td>\n",
              "      <td>0</td>\n",
              "      <td>0</td>\n",
              "      <td>0</td>\n",
              "      <td>0</td>\n",
              "      <td>0</td>\n",
              "    </tr>\n",
              "    <tr>\n",
              "      <th>2</th>\n",
              "      <td>0</td>\n",
              "      <td>0</td>\n",
              "      <td>0</td>\n",
              "      <td>0</td>\n",
              "      <td>0</td>\n",
              "      <td>0</td>\n",
              "      <td>0</td>\n",
              "      <td>0</td>\n",
              "      <td>0</td>\n",
              "      <td>0</td>\n",
              "      <td>0</td>\n",
              "      <td>0</td>\n",
              "      <td>0</td>\n",
              "      <td>0</td>\n",
              "      <td>0</td>\n",
              "      <td>0</td>\n",
              "      <td>0</td>\n",
              "      <td>0</td>\n",
              "      <td>0</td>\n",
              "      <td>0</td>\n",
              "      <td>0</td>\n",
              "      <td>0</td>\n",
              "      <td>0</td>\n",
              "      <td>0</td>\n",
              "      <td>0</td>\n",
              "      <td>0</td>\n",
              "      <td>0</td>\n",
              "      <td>0</td>\n",
              "      <td>0</td>\n",
              "      <td>0</td>\n",
              "      <td>0</td>\n",
              "      <td>0</td>\n",
              "      <td>0</td>\n",
              "      <td>0</td>\n",
              "      <td>0</td>\n",
              "      <td>0</td>\n",
              "      <td>0</td>\n",
              "      <td>0</td>\n",
              "      <td>0</td>\n",
              "      <td>0</td>\n",
              "      <td>...</td>\n",
              "      <td>0</td>\n",
              "      <td>0</td>\n",
              "      <td>0</td>\n",
              "      <td>0</td>\n",
              "      <td>0</td>\n",
              "      <td>0</td>\n",
              "      <td>0</td>\n",
              "      <td>0</td>\n",
              "      <td>0</td>\n",
              "      <td>0</td>\n",
              "      <td>0</td>\n",
              "      <td>0</td>\n",
              "      <td>0</td>\n",
              "      <td>0</td>\n",
              "      <td>0</td>\n",
              "      <td>0</td>\n",
              "      <td>0</td>\n",
              "      <td>0</td>\n",
              "      <td>0</td>\n",
              "      <td>0</td>\n",
              "      <td>0</td>\n",
              "      <td>0</td>\n",
              "      <td>0</td>\n",
              "      <td>0</td>\n",
              "      <td>0</td>\n",
              "      <td>0</td>\n",
              "      <td>0</td>\n",
              "      <td>0</td>\n",
              "      <td>0</td>\n",
              "      <td>0</td>\n",
              "      <td>0</td>\n",
              "      <td>0</td>\n",
              "      <td>0</td>\n",
              "      <td>0</td>\n",
              "      <td>0</td>\n",
              "      <td>0</td>\n",
              "      <td>0</td>\n",
              "      <td>0</td>\n",
              "      <td>0</td>\n",
              "      <td>0</td>\n",
              "    </tr>\n",
              "    <tr>\n",
              "      <th>3</th>\n",
              "      <td>0</td>\n",
              "      <td>0</td>\n",
              "      <td>0</td>\n",
              "      <td>0</td>\n",
              "      <td>0</td>\n",
              "      <td>0</td>\n",
              "      <td>0</td>\n",
              "      <td>0</td>\n",
              "      <td>0</td>\n",
              "      <td>0</td>\n",
              "      <td>0</td>\n",
              "      <td>0</td>\n",
              "      <td>0</td>\n",
              "      <td>0</td>\n",
              "      <td>0</td>\n",
              "      <td>0</td>\n",
              "      <td>0</td>\n",
              "      <td>0</td>\n",
              "      <td>0</td>\n",
              "      <td>0</td>\n",
              "      <td>0</td>\n",
              "      <td>0</td>\n",
              "      <td>0</td>\n",
              "      <td>0</td>\n",
              "      <td>0</td>\n",
              "      <td>0</td>\n",
              "      <td>0</td>\n",
              "      <td>0</td>\n",
              "      <td>0</td>\n",
              "      <td>0</td>\n",
              "      <td>0</td>\n",
              "      <td>0</td>\n",
              "      <td>0</td>\n",
              "      <td>0</td>\n",
              "      <td>0</td>\n",
              "      <td>0</td>\n",
              "      <td>0</td>\n",
              "      <td>0</td>\n",
              "      <td>0</td>\n",
              "      <td>0</td>\n",
              "      <td>...</td>\n",
              "      <td>0</td>\n",
              "      <td>0</td>\n",
              "      <td>0</td>\n",
              "      <td>0</td>\n",
              "      <td>0</td>\n",
              "      <td>0</td>\n",
              "      <td>0</td>\n",
              "      <td>0</td>\n",
              "      <td>0</td>\n",
              "      <td>0</td>\n",
              "      <td>0</td>\n",
              "      <td>0</td>\n",
              "      <td>0</td>\n",
              "      <td>0</td>\n",
              "      <td>0</td>\n",
              "      <td>0</td>\n",
              "      <td>0</td>\n",
              "      <td>0</td>\n",
              "      <td>0</td>\n",
              "      <td>0</td>\n",
              "      <td>0</td>\n",
              "      <td>0</td>\n",
              "      <td>0</td>\n",
              "      <td>0</td>\n",
              "      <td>0</td>\n",
              "      <td>0</td>\n",
              "      <td>0</td>\n",
              "      <td>0</td>\n",
              "      <td>0</td>\n",
              "      <td>0</td>\n",
              "      <td>0</td>\n",
              "      <td>0</td>\n",
              "      <td>0</td>\n",
              "      <td>0</td>\n",
              "      <td>0</td>\n",
              "      <td>0</td>\n",
              "      <td>0</td>\n",
              "      <td>0</td>\n",
              "      <td>0</td>\n",
              "      <td>0</td>\n",
              "    </tr>\n",
              "    <tr>\n",
              "      <th>4</th>\n",
              "      <td>0</td>\n",
              "      <td>0</td>\n",
              "      <td>0</td>\n",
              "      <td>0</td>\n",
              "      <td>0</td>\n",
              "      <td>0</td>\n",
              "      <td>0</td>\n",
              "      <td>0</td>\n",
              "      <td>0</td>\n",
              "      <td>0</td>\n",
              "      <td>0</td>\n",
              "      <td>0</td>\n",
              "      <td>0</td>\n",
              "      <td>0</td>\n",
              "      <td>0</td>\n",
              "      <td>0</td>\n",
              "      <td>0</td>\n",
              "      <td>0</td>\n",
              "      <td>0</td>\n",
              "      <td>0</td>\n",
              "      <td>0</td>\n",
              "      <td>0</td>\n",
              "      <td>0</td>\n",
              "      <td>0</td>\n",
              "      <td>0</td>\n",
              "      <td>0</td>\n",
              "      <td>0</td>\n",
              "      <td>0</td>\n",
              "      <td>0</td>\n",
              "      <td>0</td>\n",
              "      <td>0</td>\n",
              "      <td>0</td>\n",
              "      <td>0</td>\n",
              "      <td>0</td>\n",
              "      <td>0</td>\n",
              "      <td>0</td>\n",
              "      <td>0</td>\n",
              "      <td>0</td>\n",
              "      <td>0</td>\n",
              "      <td>0</td>\n",
              "      <td>...</td>\n",
              "      <td>0</td>\n",
              "      <td>0</td>\n",
              "      <td>0</td>\n",
              "      <td>0</td>\n",
              "      <td>0</td>\n",
              "      <td>0</td>\n",
              "      <td>0</td>\n",
              "      <td>0</td>\n",
              "      <td>0</td>\n",
              "      <td>0</td>\n",
              "      <td>0</td>\n",
              "      <td>0</td>\n",
              "      <td>0</td>\n",
              "      <td>0</td>\n",
              "      <td>0</td>\n",
              "      <td>0</td>\n",
              "      <td>0</td>\n",
              "      <td>0</td>\n",
              "      <td>0</td>\n",
              "      <td>0</td>\n",
              "      <td>0</td>\n",
              "      <td>0</td>\n",
              "      <td>0</td>\n",
              "      <td>0</td>\n",
              "      <td>0</td>\n",
              "      <td>0</td>\n",
              "      <td>0</td>\n",
              "      <td>0</td>\n",
              "      <td>0</td>\n",
              "      <td>0</td>\n",
              "      <td>0</td>\n",
              "      <td>0</td>\n",
              "      <td>0</td>\n",
              "      <td>0</td>\n",
              "      <td>0</td>\n",
              "      <td>0</td>\n",
              "      <td>0</td>\n",
              "      <td>0</td>\n",
              "      <td>0</td>\n",
              "      <td>0</td>\n",
              "    </tr>\n",
              "  </tbody>\n",
              "</table>\n",
              "<p>5 rows × 784 columns</p>\n",
              "</div>"
            ],
            "text/plain": [
              "   pixel0  pixel1  pixel2  pixel3  ...  pixel780  pixel781  pixel782  pixel783\n",
              "0       0       0       0       0  ...         0         0         0         0\n",
              "1       0       0       0       0  ...         0         0         0         0\n",
              "2       0       0       0       0  ...         0         0         0         0\n",
              "3       0       0       0       0  ...         0         0         0         0\n",
              "4       0       0       0       0  ...         0         0         0         0\n",
              "\n",
              "[5 rows x 784 columns]"
            ]
          },
          "metadata": {
            "tags": []
          },
          "execution_count": 4
        }
      ]
    },
    {
      "cell_type": "code",
      "metadata": {
        "id": "YO9Ohz_8LxOL",
        "colab_type": "code",
        "colab": {
          "base_uri": "https://localhost:8080/",
          "height": 68
        },
        "outputId": "61b5636e-5e91-47a3-917c-1de2f044713d"
      },
      "source": [
        "#splitting into train test and cross validation set\n",
        "from sklearn.model_selection import train_test_split\n",
        "X_train, X_1, y_train, y_1 = train_test_split(d, l, test_size=0.3, random_state=0)\n",
        "X_cv, X_test,y_cv,y_test= train_test_split(X_1,y_1 ,test_size=0.50, random_state=0)\n",
        "print(\"shape of training data \", X_train.shape)\n",
        "print(\"shape of cross validation data \", X_cv.shape)\n",
        "print(\"shape of test data \", X_test.shape)\n",
        "#freeing useless memory\n",
        "del(d)\n",
        "del(l)"
      ],
      "execution_count": null,
      "outputs": [
        {
          "output_type": "stream",
          "text": [
            "shape of training data  (29400, 784)\n",
            "shape of cross validation data  (6300, 784)\n",
            "shape of test data  (6300, 784)\n"
          ],
          "name": "stdout"
        }
      ]
    },
    {
      "cell_type": "markdown",
      "metadata": {
        "id": "5a6p8332UlU1",
        "colab_type": "text"
      },
      "source": [
        "#Visualizaing a random Digit\n"
      ]
    },
    {
      "cell_type": "code",
      "metadata": {
        "id": "ZGIHFRBAMg62",
        "colab_type": "code",
        "colab": {
          "base_uri": "https://localhost:8080/",
          "height": 282
        },
        "outputId": "9825c8be-9f03-4073-8385-47db6f63a73b"
      },
      "source": [
        "#display or plot a number\n",
        "ind = np.random.randint(X_train.shape[0])# displaying a digit present at a random index from the  training set\n",
        "grid_data = X_train.iloc[ind].values.reshape(28,28)\n",
        "plt.imshow(grid_data)\n",
        "plt.show()\n",
        "print(\"The above digit is \" + str(y_train.iloc[ind]))"
      ],
      "execution_count": null,
      "outputs": [
        {
          "output_type": "display_data",
          "data": {
            "image/png": "[encoded data removed]",
            "text/plain": [
              "<Figure size 432x288 with 1 Axes>"
            ]
          },
          "metadata": {
            "tags": [],
            "needs_background": "light"
          }
        },
        {
          "output_type": "stream",
          "text": [
            "The above digit is 8\n"
          ],
          "name": "stdout"
        }
      ]
    },
    {
      "cell_type": "markdown",
      "metadata": {
        "id": "8dMreuu_aRQ4",
        "colab_type": "text"
      },
      "source": [
        "#Logistic regression Model"
      ]
    },
    {
      "cell_type": "code",
      "metadata": {
        "id": "Pmf_-so0kWPf",
        "colab_type": "code",
        "colab": {}
      },
      "source": [
        "%matplotlib inline\n",
        "import warnings\n",
        "warnings.filterwarnings(\"ignore\")\n",
        "from sklearn.model_selection import cross_val_score\n",
        "from collections import Counter\n",
        "from sklearn.metrics import accuracy_score\n",
        "from sklearn import model_selection\n",
        "from sklearn.metrics import f1_score\n",
        "from sklearn.metrics import roc_auc_score\n",
        "from sklearn.linear_model import LogisticRegression"
      ],
      "execution_count": null,
      "outputs": []
    },
    {
      "cell_type": "markdown",
      "metadata": {
        "id": "TjcbdGWQb4M1",
        "colab_type": "text"
      },
      "source": [
        "##Training the model\n"
      ]
    },
    {
      "cell_type": "code",
      "metadata": {
        "id": "iio4BLmsM34Z",
        "colab_type": "code",
        "colab": {}
      },
      "source": [
        "#trainig with L1 regularization\n",
        "def Logistic_l1(X_train,X_cv,y_train,y_cv):\n",
        " best_C=0\n",
        " max_roc_auc= -1\n",
        " auc_train=[]\n",
        " auc_cv=[]\n",
        " best_clf=0\n",
        " Cs=[10000,5000,1000,500,100,50,10,5,1,0.5,0.1,0.05,0.01,0.005,0.001,0.0005,0.0001,0.00005,0.00001] \n",
        " probs=[] # probability values for best alpha\n",
        " for i in Cs[-19:]:\n",
        "    clf= LogisticRegression(penalty='l1',C=i,solver='liblinear')\n",
        "    clf.fit(X_train,y_train)\n",
        "    pred_train= clf.predict_proba(X_train)\n",
        "    pred_cv= clf.predict_proba(X_cv)\n",
        "    auc_score_train= roc_auc_score(y_train,pred_train,multi_class='ovr')\n",
        "    auc_score_cv= roc_auc_score(y_cv,pred_cv,multi_class='ovr')\n",
        "    print(\"C-->\", i,\"   auc_cv-->\",auc_score_cv,\"   auc_train-->\",auc_score_train)\n",
        "    auc_train.append( auc_score_train)\n",
        "    auc_cv.append( auc_score_cv)\n",
        "    if(auc_score_cv>max_roc_auc):\n",
        "      max_roc_auc= auc_score_cv\n",
        "      best_C= i\n",
        "      probs=pred_cv\n",
        "      prob=pred_train\n",
        "      best_clf= clf\n",
        " print(best_C, \" is the best value of alpha with an roc_auc score of \", max_roc_auc)\n",
        " sns.set_style(\"darkgrid\")\n",
        " plt.xscale(\"log\")\n",
        " plt.plot(Cs,auc_train,'r-', label=\"training data\")\n",
        " plt.plot(Cs,auc_cv,'g-', label=\"Cv data\")\n",
        " plt.legend(loc='upper right')\n",
        " plt.title(r'Auc Score v/s C')\n",
        " plt.xlabel(r\"C\" ,fontsize= 12)\n",
        " plt.xlabel(\"auc value\", fontsize= 12)\n",
        " plt.show()\n",
        " return best_clf"
      ],
      "execution_count": null,
      "outputs": []
    },
    {
      "cell_type": "code",
      "metadata": {
        "id": "07oGK8kZVeu9",
        "colab_type": "code",
        "colab": {}
      },
      "source": [
        "#trainig with L2 regularization\n",
        "def Logistic_l2(X_train,X_cv,y_train,y_cv):\n",
        " best_C=0\n",
        " max_roc_auc= -1\n",
        " auc_train=[]\n",
        " auc_cv=[]\n",
        " best_clf=0\n",
        " Cs=[10000,5000,1000,500,100,50,10,5,1,0.5,0.1,0.05,0.01,0.005,0.001,0.0005,0.0001,0.00005,0.00001] \n",
        " probs=[] # probability values for best alpha\n",
        " for i in Cs[-19:]:\n",
        "    clf= LogisticRegression(penalty='l2',C=i)\n",
        "    clf.fit(X_train,y_train)\n",
        "    pred_train= clf.predict_proba(X_train)\n",
        "    pred_cv= clf.predict_proba(X_cv)\n",
        "    auc_score_train= roc_auc_score(y_train,pred_train,multi_class='ovr')\n",
        "    auc_score_cv= roc_auc_score(y_cv,pred_cv,multi_class='ovr')\n",
        "    print(\"C-->\", i,\"   auc_cv-->\",auc_score_cv,\"   auc_train-->\",auc_score_train)\n",
        "    auc_train.append( auc_score_train)\n",
        "    auc_cv.append( auc_score_cv)\n",
        "    if(auc_score_cv>max_roc_auc):\n",
        "      max_roc_auc= auc_score_cv\n",
        "      best_C= i\n",
        "      probs=pred_cv\n",
        "      prob=pred_train\n",
        "      best_clf= clf\n",
        " print(best_C, \" is the best value of alpha with an roc_auc score of \", max_roc_auc)\n",
        " sns.set_style(\"darkgrid\")\n",
        " plt.xscale(\"log\")\n",
        " plt.plot(Cs,auc_train,'r-', label=\"training data\")\n",
        " plt.plot(Cs,auc_cv,'g-', label=\"Cv data\")\n",
        " plt.legend(loc='upper right')\n",
        " plt.title(r'Auc Score v/s C')\n",
        " plt.xlabel(r\"C\" ,fontsize= 12)\n",
        " plt.xlabel(\"auc value\", fontsize= 12)\n",
        " plt.show()\n",
        " return best_clf"
      ],
      "execution_count": null,
      "outputs": []
    },
    {
      "cell_type": "code",
      "metadata": {
        "id": "5qpZ9nMVYwqf",
        "colab_type": "code",
        "colab": {}
      },
      "source": [
        "#trainig with elastic net regularization\n",
        "def Logistic_elastic_net(X_train,X_cv,y_train,y_cv):\n",
        " best_C=0\n",
        " max_roc_auc= -1\n",
        " auc_train=[]\n",
        " auc_cv=[]\n",
        " best_clf=0\n",
        " Cs=[10000,5000,1000,500,100,50,10,5,1,0.5,0.1,0.05,0.01,0.005,0.001,0.0005,0.0001,0.00005,0.00001] \n",
        " probs=[] # probability values for best alpha\n",
        " for i in Cs[-19:]:\n",
        "    clf= LogisticRegression(penalty='elasticnet',C=i, solver='saga,' ,l1_ratio= .5)\n",
        "    clf.fit(X_train,y_train)\n",
        "    pred_train= clf.predict_proba(X_train)\n",
        "    pred_cv= clf.predict_proba(X_cv)\n",
        "    auc_score_train= roc_auc_score(y_train,pred_train,multi_class='ovr')\n",
        "    auc_score_cv= roc_auc_score(y_cv,pred_cv,multi_class='ovr')\n",
        "    print(\"C-->\", i,\"   auc_cv-->\",auc_score_cv,\"   auc_train-->\",auc_score_train)\n",
        "    auc_train.append( auc_score_train)\n",
        "    auc_cv.append( auc_score_cv)\n",
        "    if(auc_score_cv>max_roc_auc):\n",
        "      max_roc_auc= auc_score_cv\n",
        "      best_C= i\n",
        "      probs=pred_cv\n",
        "      prob=pred_train\n",
        "      best_clf= clf\n",
        " print(best_C, \" is the best value of alpha with an roc_auc score of \", max_roc_auc)\n",
        " sns.set_style(\"darkgrid\")\n",
        " plt.xscale(\"log\")\n",
        " plt.plot(Cs,auc_train,'r-', label=\"training data\")\n",
        " plt.plot(Cs,auc_cv,'g-', label=\"Cv data\")\n",
        " plt.legend(loc='upper right')\n",
        " plt.title(r'Auc Score v/s C')\n",
        " plt.xlabel(r\"C\" ,fontsize= 12)\n",
        " plt.xlabel(\"auc value\", fontsize= 12)\n",
        " plt.show()\n",
        " return best_clf"
      ],
      "execution_count": null,
      "outputs": []
    },
    {
      "cell_type": "markdown",
      "metadata": {
        "id": "pDZI97M3gWRJ",
        "colab_type": "text"
      },
      "source": [
        "##Testing the model"
      ]
    },
    {
      "cell_type": "code",
      "metadata": {
        "id": "zP6DWUPzYzhJ",
        "colab_type": "code",
        "colab": {}
      },
      "source": [
        "import scikitplot.metrics as skplt\n",
        "def testing(clf,y_train, y_test):\n",
        "  probs= clf.predict_proba(X_test)\n",
        "  print(\"AUC score on test data\", roc_auc_score(y_test,probs,multi_class='ovr'))\n",
        "  prediction = clf.predict(X_test)\n",
        "  skplt.plot_confusion_matrix(y_test,prediction)\n",
        "  print(\"macro f1 score for data :\",metrics.f1_score(y_test, prediction, average = 'macro'))\n",
        "  print(\"micro f1 scoore for data:\",metrics.f1_score(y_test, prediction, average = 'micro'))\n",
        "  print(\"hamming loss for data:\",metrics.hamming_loss(y_test,prediction))\n",
        "  print(\"Precision recall report for data:\\n\",metrics.classification_report(y_test, prediction))"
      ],
      "execution_count": null,
      "outputs": []
    },
    {
      "cell_type": "markdown",
      "metadata": {
        "id": "EXZGL3wkgyyk",
        "colab_type": "text"
      },
      "source": [
        "##Visualizing the weights"
      ]
    },
    {
      "cell_type": "code",
      "metadata": {
        "id": "3SuN87FLgei_",
        "colab_type": "code",
        "colab": {}
      },
      "source": [
        "def visualize(clf):\n",
        "  coef= clf.coef_\n",
        "  for i  in coef:\n",
        "   grid_data = i.reshape(28,28)\n",
        "   plt.imshow(grid_data)\n",
        "   plt.show()"
      ],
      "execution_count": null,
      "outputs": []
    },
    {
      "cell_type": "markdown",
      "metadata": {
        "id": "V2N29cLBhQ3z",
        "colab_type": "text"
      },
      "source": [
        "#Running the Model"
      ]
    },
    {
      "cell_type": "markdown",
      "metadata": {
        "id": "yE99jvdMhUJI",
        "colab_type": "text"
      },
      "source": [
        "##L1 regulariztion"
      ]
    },
    {
      "cell_type": "code",
      "metadata": {
        "id": "KfJri4pbgjo6",
        "colab_type": "code",
        "colab": {
          "base_uri": "https://localhost:8080/",
          "height": 136
        },
        "outputId": "7271a1b1-52f7-4968-aa86-00f336f05c8e"
      },
      "source": [
        "clf=Logistic_l1(X_train,X_cv,y_train,y_cv)"
      ],
      "execution_count": null,
      "outputs": [
        {
          "output_type": "stream",
          "text": [
            "C--> 10000    auc_cv--> 0.9856838757762422    auc_train--> 0.9948015255825938\n",
            "C--> 5000    auc_cv--> 0.9858135738082543    auc_train--> 0.9948023752696704\n",
            "C--> 1000    auc_cv--> 0.9858818950470873    auc_train--> 0.9948141464236098\n",
            "C--> 500    auc_cv--> 0.9859453110604856    auc_train--> 0.9948239047107365\n",
            "C--> 100    auc_cv--> 0.9862165484069244    auc_train--> 0.9948270966994667\n",
            "C--> 50    auc_cv--> 0.9863109979206179    auc_train--> 0.9948225512400468\n",
            "C--> 10    auc_cv--> 0.9868125475103964    auc_train--> 0.9948130819810863\n"
          ],
          "name": "stdout"
        }
      ]
    },
    {
      "cell_type": "code",
      "metadata": {
        "id": "YdEf5I9YhZde",
        "colab_type": "code",
        "colab": {}
      },
      "source": [
        "testing(clf,y_train, y_test)"
      ],
      "execution_count": null,
      "outputs": []
    },
    {
      "cell_type": "code",
      "metadata": {
        "id": "YcKYKzf7rLAG",
        "colab_type": "code",
        "colab": {}
      },
      "source": [
        "visualize(clf)"
      ],
      "execution_count": null,
      "outputs": []
    },
    {
      "cell_type": "markdown",
      "metadata": {
        "id": "T3SP_-_1uRMT",
        "colab_type": "text"
      },
      "source": [
        "##L2 regularization"
      ]
    },
    {
      "cell_type": "code",
      "metadata": {
        "id": "X7pPlifcrO8_",
        "colab_type": "code",
        "colab": {
          "base_uri": "https://localhost:8080/",
          "height": 642
        },
        "outputId": "36890580-5488-44c3-ea09-0f4125b4dce4"
      },
      "source": [
        "clf=Logistic_l2(X_train,X_cv,y_train,y_cv)"
      ],
      "execution_count": null,
      "outputs": [
        {
          "output_type": "stream",
          "text": [
            "C--> 10000    auc_cv--> 0.9934548536662018    auc_train--> 0.9962732807416292\n",
            "C--> 5000    auc_cv--> 0.9934551382744796    auc_train--> 0.9962729397296325\n",
            "C--> 1000    auc_cv--> 0.9934546499831663    auc_train--> 0.9962710668920561\n",
            "C--> 500    auc_cv--> 0.9934543428991611    auc_train--> 0.996269502356528\n",
            "C--> 100    auc_cv--> 0.9934531682515756    auc_train--> 0.9962651178858607\n",
            "C--> 50    auc_cv--> 0.9934506422404606    auc_train--> 0.9962662352806598\n",
            "C--> 10    auc_cv--> 0.9933828263509497    auc_train--> 0.9962711543625147\n",
            "C--> 5    auc_cv--> 0.9934793072989413    auc_train--> 0.996270657423886\n",
            "C--> 1    auc_cv--> 0.9934063320133724    auc_train--> 0.9963112276946914\n",
            "C--> 0.5    auc_cv--> 0.9934738988910823    auc_train--> 0.9962356604895021\n",
            "C--> 0.1    auc_cv--> 0.993344957933032    auc_train--> 0.9963350431002258\n",
            "C--> 0.05    auc_cv--> 0.9934271875831424    auc_train--> 0.9962941145426909\n",
            "C--> 0.01    auc_cv--> 0.9934241821390619    auc_train--> 0.9962818012720561\n",
            "C--> 0.005    auc_cv--> 0.9933551962016024    auc_train--> 0.9963712744092904\n",
            "C--> 0.001    auc_cv--> 0.9935267275955759    auc_train--> 0.9962847829127759\n",
            "C--> 0.0005    auc_cv--> 0.9933899044159136    auc_train--> 0.9963392686265831\n",
            "C--> 0.0001    auc_cv--> 0.9933997614010288    auc_train--> 0.9963662924121476\n",
            "C--> 5e-05    auc_cv--> 0.993445183692103    auc_train--> 0.9963638330257423\n",
            "C--> 1e-05    auc_cv--> 0.9938892428454276    auc_train--> 0.9961376867965844\n",
            "1e-05  is the best value of alpha with an roc_auc score of  0.9938892428454276\n"
          ],
          "name": "stdout"
        },
        {
          "output_type": "display_data",
          "data": {
            "image/png": "[encoded data removed]",
            "text/plain": [
              "<Figure size 432x288 with 1 Axes>"
            ]
          },
          "metadata": {
            "tags": []
          }
        }
      ]
    },
    {
      "cell_type": "code",
      "metadata": {
        "id": "H-0KyBKIuW8V",
        "colab_type": "code",
        "colab": {
          "base_uri": "https://localhost:8080/",
          "height": 669
        },
        "outputId": "8a6b9561-a173-4d25-f77a-20d93e0b2105"
      },
      "source": [
        "testing(clf,y_train, y_test)"
      ],
      "execution_count": null,
      "outputs": [
        {
          "output_type": "stream",
          "text": [
            "AUC score on test data 0.9922599009638251\n",
            "macro f1 score for data : 0.912805591677615\n",
            "micro f1 scoore for data: 0.9141269841269841\n",
            "hamming loss for data: 0.08587301587301588\n",
            "Precision recall report for data:\n",
            "               precision    recall  f1-score   support\n",
            "\n",
            "           0       0.95      0.96      0.95       600\n",
            "           1       0.96      0.97      0.97       725\n",
            "           2       0.91      0.88      0.90       618\n",
            "           3       0.89      0.89      0.89       631\n",
            "           4       0.92      0.94      0.93       615\n",
            "           5       0.88      0.86      0.87       575\n",
            "           6       0.94      0.96      0.95       615\n",
            "           7       0.94      0.94      0.94       666\n",
            "           8       0.87      0.86      0.86       623\n",
            "           9       0.88      0.89      0.88       632\n",
            "\n",
            "    accuracy                           0.91      6300\n",
            "   macro avg       0.91      0.91      0.91      6300\n",
            "weighted avg       0.91      0.91      0.91      6300\n",
            "\n"
          ],
          "name": "stdout"
        },
        {
          "output_type": "display_data",
          "data": {
            "image/png": "[encoded data removed]",
            "text/plain": [
              "<Figure size 432x288 with 2 Axes>"
            ]
          },
          "metadata": {
            "tags": []
          }
        }
      ]
    },
    {
      "cell_type": "code",
      "metadata": {
        "id": "TA8A8vYFurgy",
        "colab_type": "code",
        "colab": {}
      },
      "source": [
        ""
      ],
      "execution_count": null,
      "outputs": []
    }
  ]
}