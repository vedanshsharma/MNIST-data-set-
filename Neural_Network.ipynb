{
  "nbformat": 4,
  "nbformat_minor": 0,
  "metadata": {
    "colab": {
      "name": "Neural_Network.ipynb",
      "provenance": []
    },
    "kernelspec": {
      "name": "python3",
      "display_name": "Python 3"
    }
  },
  "cells": [
    {
      "cell_type": "code",
      "metadata": {
        "id": "Hx3oBXJTSjO7",
        "colab_type": "code",
        "colab": {}
      },
      "source": [
        "import tensorflow as tf\n",
        "import numpy as np\n",
        "import matplotlib.pyplot as plt\n",
        "import random\n"
      ],
      "execution_count": 58,
      "outputs": []
    },
    {
      "cell_type": "code",
      "metadata": {
        "id": "5qrx9GZESvGX",
        "colab_type": "code",
        "colab": {}
      },
      "source": [
        "#importing dataset\n",
        "mnist = tf.keras.datasets.mnist\n",
        "\n",
        "(x_train, y_train), (x_test, y_test) = mnist.load_data()\n",
        "x_train, x_test = x_train / 255.0, x_test / 255.0"
      ],
      "execution_count": 59,
      "outputs": []
    },
    {
      "cell_type": "code",
      "metadata": {
        "id": "oGyByDviSzeA",
        "colab_type": "code",
        "colab": {
          "base_uri": "https://localhost:8080/",
          "height": 51
        },
        "outputId": "c2fe7c5e-e92c-4101-cfd9-5d1823bd59ea"
      },
      "source": [
        "print(\"size of training data \",x_train.shape[0])\n",
        "print(\"size of test data \",x_test.shape[0])"
      ],
      "execution_count": 60,
      "outputs": [
        {
          "output_type": "stream",
          "text": [
            "size of training data  60000\n",
            "size of test data  10000\n"
          ],
          "name": "stdout"
        }
      ]
    },
    {
      "cell_type": "code",
      "metadata": {
        "id": "SRCYbJB8TRlZ",
        "colab_type": "code",
        "colab": {
          "base_uri": "https://localhost:8080/",
          "height": 34
        },
        "outputId": "4aef46a3-9ac6-4594-f12d-f2b1d627cdf5"
      },
      "source": [
        "print(\"shape of an image \" ,x_train[0].shape)"
      ],
      "execution_count": 61,
      "outputs": [
        {
          "output_type": "stream",
          "text": [
            "shape of an image  (28, 28)\n"
          ],
          "name": "stdout"
        }
      ]
    },
    {
      "cell_type": "code",
      "metadata": {
        "id": "qNwflgLnTzQn",
        "colab_type": "code",
        "colab": {
          "base_uri": "https://localhost:8080/",
          "height": 445
        },
        "outputId": "576337e2-dd6d-42ab-e716-c05df204aa3a"
      },
      "source": [
        "#display or plot a number\n",
        "plt.figure(figsize =(7,7))\n",
        "idx=random.randint(0,255)\n",
        "\n",
        "#cextracting image from the numpy array\n",
        "grid_data = x_train[idx]\n",
        "\n",
        "plt.imshow(grid_data, interpolation ='none',cmap='gray')\n",
        "plt.show()\n",
        "print('The above digit is ' + str(y_train[idx]))"
      ],
      "execution_count": 62,
      "outputs": [
        {
          "output_type": "display_data",
          "data": {
            "image/png": "[encoded data removed]",
            "text/plain": [
              "<Figure size 504x504 with 1 Axes>"
            ]
          },
          "metadata": {
            "tags": [],
            "needs_background": "light"
          }
        },
        {
          "output_type": "stream",
          "text": [
            "The above digit is 0\n"
          ],
          "name": "stdout"
        }
      ]
    },
    {
      "cell_type": "code",
      "metadata": {
        "id": "vi6U8HTqizk-",
        "colab_type": "code",
        "colab": {
          "base_uri": "https://localhost:8080/",
          "height": 51
        },
        "outputId": "98c5b50f-1bd5-40e0-e4ff-657717937f95"
      },
      "source": [
        "#reshape to 784 dim\n",
        "x_train = x_train.flatten().reshape(60000,784)\n",
        "x_test = x_test.flatten().reshape(10000,784)\n",
        "\n",
        "print('shape of training data ', x_train.shape)\n",
        "print('shape of test data ', x_test.shape)"
      ],
      "execution_count": 83,
      "outputs": [
        {
          "output_type": "stream",
          "text": [
            "shape of training data  (60000, 784)\n",
            "shape of test data  (10000, 784)\n"
          ],
          "name": "stdout"
        }
      ]
    },
    {
      "cell_type": "code",
      "metadata": {
        "id": "i7JaY4zDhF2C",
        "colab_type": "code",
        "colab": {}
      },
      "source": [
        "#before training the neural network, we should always remove mean and set variance to 1 of our data\n",
        "from sklearn.preprocessing import StandardScaler\n",
        "scaler = StandardScaler()\n",
        "scaler.fit(x_train)\n",
        "x_train = scaler.transform(x_train)\n",
        "x_test = scaler.transform(x_test)"
      ],
      "execution_count": 68,
      "outputs": []
    },
    {
      "cell_type": "markdown",
      "metadata": {
        "id": "__TYT9aYggh9",
        "colab_type": "text"
      },
      "source": [
        "#Sigmoid activation"
      ]
    },
    {
      "cell_type": "markdown",
      "metadata": {
        "colab_type": "text",
        "id": "S2Tt18IC2hqB"
      },
      "source": [
        "                        Architecture\n",
        "      input(784)>> layer_1(128, Sigmoid) >> layer_2(64,Sigmoid) >> dropout(0.3) >> layer_3(10, None) >> Softmax"
      ]
    },
    {
      "cell_type": "code",
      "metadata": {
        "id": "SeZXc1UDUDY6",
        "colab_type": "code",
        "colab": {}
      },
      "source": [
        "#model with sigmoid activations\n",
        "\n",
        "model = tf.keras.models.Sequential([\n",
        "  tf.keras.layers.InputLayer(784),\n",
        "  tf.keras.layers.Dense(128, activation='sigmoid', kernel_initializer=tf.keras.initializers.RandomNormal(stddev=2/(912))),\n",
        "  tf.keras.layers.Dense(64, activation='sigmoid',kernel_initializer=tf.keras.initializers.RandomNormal(stddev=2/(192))),\n",
        "  tf.keras.layers.Dropout(0.3),\n",
        "  tf.keras.layers.Dense(10, kernel_initializer=tf.keras.initializers.RandomNormal(stddev=2/(74))),\n",
        "  tf.keras.layers.Softmax()\n",
        "])\n"
      ],
      "execution_count": 87,
      "outputs": []
    },
    {
      "cell_type": "code",
      "metadata": {
        "id": "BCkJgzyrahhL",
        "colab_type": "code",
        "colab": {
          "base_uri": "https://localhost:8080/",
          "height": 68
        },
        "outputId": "10c29216-5246-4dd3-af0d-9320ed7a56e9"
      },
      "source": [
        "predictions = model(x_train[:1]).numpy()\n",
        "predictions"
      ],
      "execution_count": 88,
      "outputs": [
        {
          "output_type": "execute_result",
          "data": {
            "text/plain": [
              "array([[0.08789904, 0.09207291, 0.08100266, 0.10422133, 0.10315093,\n",
              "        0.10505939, 0.10375583, 0.10476438, 0.11432635, 0.10374717]],\n",
              "      dtype=float32)"
            ]
          },
          "metadata": {
            "tags": []
          },
          "execution_count": 88
        }
      ]
    },
    {
      "cell_type": "code",
      "metadata": {
        "id": "zq1iGR3eam41",
        "colab_type": "code",
        "colab": {
          "base_uri": "https://localhost:8080/",
          "height": 34
        },
        "outputId": "4f957661-cd6a-49bb-dad6-5875b4002b37"
      },
      "source": [
        "#loss by a random model\n",
        "loss_fn = tf.keras.losses.SparseCategoricalCrossentropy(from_logits=True)\n",
        "loss_fn(y_train[:1], predictions).numpy()\n"
      ],
      "execution_count": 89,
      "outputs": [
        {
          "output_type": "execute_result",
          "data": {
            "text/plain": [
              "2.2975693"
            ]
          },
          "metadata": {
            "tags": []
          },
          "execution_count": 89
        }
      ]
    },
    {
      "cell_type": "code",
      "metadata": {
        "id": "Otf0iqcNbI2e",
        "colab_type": "code",
        "colab": {}
      },
      "source": [
        "model.compile(optimizer='adam',\n",
        "              loss=loss_fn,\n",
        "              metrics=['accuracy'])\n"
      ],
      "execution_count": 90,
      "outputs": []
    },
    {
      "cell_type": "code",
      "metadata": {
        "id": "MAscYz9ybP2c",
        "colab_type": "code",
        "colab": {
          "base_uri": "https://localhost:8080/",
          "height": 357
        },
        "outputId": "2b47ee08-30be-42bb-d8ac-638e9e15517e"
      },
      "source": [
        "history = model.fit(x_train, y_train, epochs=10)"
      ],
      "execution_count": 95,
      "outputs": [
        {
          "output_type": "stream",
          "text": [
            "Epoch 1/10\n",
            "1875/1875 [==============================] - 4s 2ms/step - loss: 1.4869 - accuracy: 0.9764\n",
            "Epoch 2/10\n",
            "1875/1875 [==============================] - 4s 2ms/step - loss: 1.4852 - accuracy: 0.9781\n",
            "Epoch 3/10\n",
            "1875/1875 [==============================] - 4s 2ms/step - loss: 1.4831 - accuracy: 0.9800\n",
            "Epoch 4/10\n",
            "1875/1875 [==============================] - 4s 2ms/step - loss: 1.4818 - accuracy: 0.9812\n",
            "Epoch 5/10\n",
            "1875/1875 [==============================] - 4s 2ms/step - loss: 1.4808 - accuracy: 0.9820\n",
            "Epoch 6/10\n",
            "1875/1875 [==============================] - 4s 2ms/step - loss: 1.4799 - accuracy: 0.9827\n",
            "Epoch 7/10\n",
            "1875/1875 [==============================] - 4s 2ms/step - loss: 1.4791 - accuracy: 0.9837\n",
            "Epoch 8/10\n",
            "1875/1875 [==============================] - 4s 2ms/step - loss: 1.4781 - accuracy: 0.9846\n",
            "Epoch 9/10\n",
            "1875/1875 [==============================] - 4s 2ms/step - loss: 1.4779 - accuracy: 0.9845\n",
            "Epoch 10/10\n",
            "1875/1875 [==============================] - 4s 2ms/step - loss: 1.4769 - accuracy: 0.9855\n"
          ],
          "name": "stdout"
        }
      ]
    },
    {
      "cell_type": "code",
      "metadata": {
        "id": "8nq1IMADbUKy",
        "colab_type": "code",
        "colab": {
          "base_uri": "https://localhost:8080/",
          "height": 51
        },
        "outputId": "a1c072b3-8ff3-41d4-df5d-9f02b1b2820a"
      },
      "source": [
        "model.evaluate(x_test,  y_test, verbose=2)"
      ],
      "execution_count": 96,
      "outputs": [
        {
          "output_type": "stream",
          "text": [
            "313/313 - 0s - loss: 1.4985 - accuracy: 0.9634\n"
          ],
          "name": "stdout"
        },
        {
          "output_type": "execute_result",
          "data": {
            "text/plain": [
              "[1.4985346794128418, 0.9634000062942505]"
            ]
          },
          "metadata": {
            "tags": []
          },
          "execution_count": 96
        }
      ]
    },
    {
      "cell_type": "code",
      "metadata": {
        "id": "Bj3K9oyGDp3g",
        "colab_type": "code",
        "colab": {
          "base_uri": "https://localhost:8080/",
          "height": 323
        },
        "outputId": "eb258df5-4554-4a54-96a7-0a9e1bb67de1"
      },
      "source": [
        "model.summary()\n"
      ],
      "execution_count": 98,
      "outputs": [
        {
          "output_type": "stream",
          "text": [
            "Model: \"sequential_6\"\n",
            "_________________________________________________________________\n",
            "Layer (type)                 Output Shape              Param #   \n",
            "=================================================================\n",
            "dense_19 (Dense)             (None, 128)               100480    \n",
            "_________________________________________________________________\n",
            "dense_20 (Dense)             (None, 64)                8256      \n",
            "_________________________________________________________________\n",
            "dropout_6 (Dropout)          (None, 64)                0         \n",
            "_________________________________________________________________\n",
            "dense_21 (Dense)             (None, 10)                650       \n",
            "_________________________________________________________________\n",
            "softmax_5 (Softmax)          (None, 10)                0         \n",
            "=================================================================\n",
            "Total params: 109,386\n",
            "Trainable params: 109,386\n",
            "Non-trainable params: 0\n",
            "_________________________________________________________________\n"
          ],
          "name": "stdout"
        }
      ]
    },
    {
      "cell_type": "markdown",
      "metadata": {
        "id": "pF59i7bixaxI",
        "colab_type": "text"
      },
      "source": [
        "#Relu activation"
      ]
    },
    {
      "cell_type": "markdown",
      "metadata": {
        "id": "RrGb4zv-12uL",
        "colab_type": "text"
      },
      "source": [
        "                        Architecture\n",
        "      input(784)>> layer_1(128, Relu) >> layer_2(64,Relu) >> dropout(0.3) >> layer_3(10, None) >> Softmax"
      ]
    },
    {
      "cell_type": "code",
      "metadata": {
        "id": "CHEz2dlwbpeL",
        "colab_type": "code",
        "colab": {}
      },
      "source": [
        "#model with Relu activations\n",
        "\n",
        "model = tf.keras.models.Sequential([\n",
        "  tf.keras.layers.InputLayer(784),\n",
        "  tf.keras.layers.Dense(128, activation= 'relu', kernel_initializer=tf.keras.initializers.RandomUniform(minval = -0.087, maxval= 0.087)),\n",
        "  tf.keras.layers.Dense(64, activation= 'relu',kernel_initializer=tf.keras.initializers.RandomUniform(minval= - 0.216, maxval = 0.216)),\n",
        "  tf.keras.layers.Dropout(0.3),\n",
        "  tf.keras.layers.Dense(10, kernel_initializer=tf.keras.initializers.RandomUniform(minval= -0.306, maxval= 0.306)),\n",
        "  tf.keras.layers.Softmax()\n",
        "])\n"
      ],
      "execution_count": 99,
      "outputs": []
    },
    {
      "cell_type": "code",
      "metadata": {
        "id": "X-X0dPFoO7Wt",
        "colab_type": "code",
        "colab": {}
      },
      "source": [
        "model.compile(optimizer='adam',\n",
        "              loss=loss_fn,\n",
        "              metrics=['accuracy'])\n"
      ],
      "execution_count": 100,
      "outputs": []
    },
    {
      "cell_type": "code",
      "metadata": {
        "id": "2oC4fWujO_NF",
        "colab_type": "code",
        "colab": {
          "base_uri": "https://localhost:8080/",
          "height": 544
        },
        "outputId": "d53bc47b-2e60-4987-8842-2d8ca47b4efe"
      },
      "source": [
        "model.fit(x_train, y_train, epochs=15)"
      ],
      "execution_count": 101,
      "outputs": [
        {
          "output_type": "stream",
          "text": [
            "Epoch 1/15\n",
            "1875/1875 [==============================] - 7s 4ms/step - loss: 1.5730 - accuracy: 0.8929\n",
            "Epoch 2/15\n",
            "1875/1875 [==============================] - 4s 2ms/step - loss: 1.5228 - accuracy: 0.9394\n",
            "Epoch 3/15\n",
            "1875/1875 [==============================] - 4s 2ms/step - loss: 1.5156 - accuracy: 0.9460\n",
            "Epoch 4/15\n",
            "1875/1875 [==============================] - 4s 2ms/step - loss: 1.5089 - accuracy: 0.9528\n",
            "Epoch 5/15\n",
            "1875/1875 [==============================] - 4s 2ms/step - loss: 1.5061 - accuracy: 0.9553\n",
            "Epoch 6/15\n",
            "1875/1875 [==============================] - 4s 2ms/step - loss: 1.5031 - accuracy: 0.9581\n",
            "Epoch 7/15\n",
            "1875/1875 [==============================] - 4s 2ms/step - loss: 1.5026 - accuracy: 0.9586\n",
            "Epoch 8/15\n",
            "1875/1875 [==============================] - 4s 2ms/step - loss: 1.5021 - accuracy: 0.9589\n",
            "Epoch 9/15\n",
            "1875/1875 [==============================] - 4s 2ms/step - loss: 1.5007 - accuracy: 0.9602\n",
            "Epoch 10/15\n",
            "1875/1875 [==============================] - 4s 2ms/step - loss: 1.4990 - accuracy: 0.9621\n",
            "Epoch 11/15\n",
            "1875/1875 [==============================] - 4s 2ms/step - loss: 1.4987 - accuracy: 0.9622\n",
            "Epoch 12/15\n",
            "1875/1875 [==============================] - 4s 2ms/step - loss: 1.4985 - accuracy: 0.9627\n",
            "Epoch 13/15\n",
            "1875/1875 [==============================] - 4s 2ms/step - loss: 1.4974 - accuracy: 0.9638\n",
            "Epoch 14/15\n",
            "1875/1875 [==============================] - 4s 2ms/step - loss: 1.4985 - accuracy: 0.9625\n",
            "Epoch 15/15\n",
            "1875/1875 [==============================] - 4s 2ms/step - loss: 1.4959 - accuracy: 0.9651\n"
          ],
          "name": "stdout"
        },
        {
          "output_type": "execute_result",
          "data": {
            "text/plain": [
              "<tensorflow.python.keras.callbacks.History at 0x7f37a39a36a0>"
            ]
          },
          "metadata": {
            "tags": []
          },
          "execution_count": 101
        }
      ]
    },
    {
      "cell_type": "code",
      "metadata": {
        "id": "SVNSq_vNPWE0",
        "colab_type": "code",
        "colab": {
          "base_uri": "https://localhost:8080/",
          "height": 51
        },
        "outputId": "d9d37acf-c42b-49d1-d24b-0fe5daf828d7"
      },
      "source": [
        "model.evaluate(x_test,  y_test, verbose=2)"
      ],
      "execution_count": 102,
      "outputs": [
        {
          "output_type": "stream",
          "text": [
            "313/313 - 0s - loss: 1.4956 - accuracy: 0.9654\n"
          ],
          "name": "stdout"
        },
        {
          "output_type": "execute_result",
          "data": {
            "text/plain": [
              "[1.4955565929412842, 0.965399980545044]"
            ]
          },
          "metadata": {
            "tags": []
          },
          "execution_count": 102
        }
      ]
    },
    {
      "cell_type": "code",
      "metadata": {
        "id": "Bjx0bRSvPnUB",
        "colab_type": "code",
        "colab": {
          "base_uri": "https://localhost:8080/",
          "height": 323
        },
        "outputId": "1ecd4522-b3a0-4a98-930d-3aff926d6651"
      },
      "source": [
        "model.summary()"
      ],
      "execution_count": 103,
      "outputs": [
        {
          "output_type": "stream",
          "text": [
            "Model: \"sequential_7\"\n",
            "_________________________________________________________________\n",
            "Layer (type)                 Output Shape              Param #   \n",
            "=================================================================\n",
            "dense_22 (Dense)             (None, 128)               100480    \n",
            "_________________________________________________________________\n",
            "dense_23 (Dense)             (None, 64)                8256      \n",
            "_________________________________________________________________\n",
            "dropout_7 (Dropout)          (None, 64)                0         \n",
            "_________________________________________________________________\n",
            "dense_24 (Dense)             (None, 10)                650       \n",
            "_________________________________________________________________\n",
            "softmax_6 (Softmax)          (None, 10)                0         \n",
            "=================================================================\n",
            "Total params: 109,386\n",
            "Trainable params: 109,386\n",
            "Non-trainable params: 0\n",
            "_________________________________________________________________\n"
          ],
          "name": "stdout"
        }
      ]
    },
    {
      "cell_type": "code",
      "metadata": {
        "id": "nmN9Ohwe0fwi",
        "colab_type": "code",
        "colab": {}
      },
      "source": [
        ""
      ],
      "execution_count": null,
      "outputs": []
    }
  ]
}